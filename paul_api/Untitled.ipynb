{
 "cells": [
  {
   "cell_type": "code",
   "execution_count": 5,
   "metadata": {},
   "outputs": [],
   "source": [
    "from api import models\n",
    "from eav import models as emodels\n",
    "from asgiref.sync import sync_to_async\n",
    "from datetime import datetime"
   ]
  },
  {
   "cell_type": "code",
   "execution_count": 30,
   "metadata": {},
   "outputs": [],
   "source": [
    "e = models.Entry.objects.filter(data__data_nasterii__gt='2008-05-22T00:00:00')"
   ]
  },
  {
   "cell_type": "code",
   "execution_count": 33,
   "metadata": {},
   "outputs": [
    {
     "data": {
      "text/plain": [
       "<EavQuerySet [({'nume': 'Barajas', 'prenume': 'Ashley', 'email': 'thomasadams@hotmail.com', 'data_nasterii': '2013-12-03T06:00:00+02:00', 'telefon': '+1-052-932-8180x260', 'activ': False},), ({'nume': 'Wu', 'prenume': 'Amanda', 'email': 'cruzsarah@gmail.com', 'data_nasterii': '2020-08-01T06:00:00+03:00', 'telefon': '(703)221-3327', 'activ': True},), ({'nume': 'Harris', 'prenume': 'Connie', 'email': 'vray@gmail.com', 'data_nasterii': '2013-05-17T06:00:00+03:00', 'telefon': '001-167-588-9950', 'activ': True},), ({'nume': 'Smith', 'prenume': 'Brittany', 'email': 'lisa04@gilbert.com', 'data_nasterii': '2011-10-17T06:00:00+03:00', 'telefon': '708.768.3254x589', 'activ': False},), ({'nume': 'Davis', 'prenume': 'Dave', 'email': 'cohenjoshua@hotmail.com', 'data_nasterii': '2020-02-12T06:00:00+02:00', 'telefon': '+1-238-653-3984x2209', 'activ': True},), ({'nume': 'Taylor', 'prenume': 'Christina', 'email': 'isuarez@chandler-brock.biz', 'data_nasterii': '2013-11-23T06:00:00+02:00', 'telefon': '701.398.0910', 'activ': False},), ({'nume': 'Bond', 'prenume': 'Stephanie', 'email': 'colonamy@yahoo.com', 'data_nasterii': '2016-07-22T06:00:00+03:00', 'telefon': '440.282.0597', 'activ': False},), ({'nume': 'Swanson', 'prenume': 'Amanda', 'email': 'robertyork@gmail.com', 'data_nasterii': '2014-08-23T06:00:00+03:00', 'telefon': '(069)573-4597', 'activ': False},), ({'nume': 'Higgins', 'prenume': 'Tim', 'email': 'bergjoel@foley.com', 'data_nasterii': '2011-03-09T06:00:00+02:00', 'telefon': '572-547-1956x172', 'activ': False},), ({'nume': 'Harris', 'prenume': 'Brent', 'email': 'zmedina@hobbs.net', 'data_nasterii': '2015-11-14T06:00:00+02:00', 'telefon': '027.751.2141', 'activ': False},), ({'nume': 'Mcpherson', 'prenume': 'Bryan', 'email': 'aliciajohnson@yahoo.com', 'data_nasterii': '2014-04-14T06:00:00+03:00', 'telefon': '0625799582', 'activ': True},), ({'nume': 'Cannon', 'prenume': 'Adam', 'email': 'cynthiamiller@powell.com', 'data_nasterii': '2020-06-06T06:00:00+03:00', 'telefon': '517-548-6879x57856', 'activ': True},), ({'nume': 'Bishop', 'prenume': 'Matthew', 'email': 'zmueller@hotmail.com', 'data_nasterii': '2019-11-29T06:00:00+02:00', 'telefon': '+1-159-959-9987x138', 'activ': False},), ({'nume': 'Smith', 'prenume': 'Pedro', 'email': 'scott09@valencia-estrada.com', 'data_nasterii': '2016-02-21T06:00:00+02:00', 'telefon': '133-408-0425', 'activ': True},), ({'nume': 'Rodriguez', 'prenume': 'Amanda', 'email': 'smithjill@hotmail.com', 'data_nasterii': '2017-09-01T06:00:00+03:00', 'telefon': '437.790.5228x5923', 'activ': True},), ({'nume': 'Johnson', 'prenume': 'Taylor', 'email': 'fgeorge@hotmail.com', 'data_nasterii': '2010-10-31T06:00:00+02:00', 'telefon': '001-601-694-7028x5791', 'activ': False},), ({'nume': 'Rowe', 'prenume': 'Lisa', 'email': 'mmcgrath@george.com', 'data_nasterii': '2017-12-14T06:00:00+02:00', 'telefon': '+1-447-447-6811x361', 'activ': True},), ({'nume': 'Anderson', 'prenume': 'Robert', 'email': 'gsavage@hotmail.com', 'data_nasterii': '2014-10-13T06:00:00+03:00', 'telefon': '(481)767-3379x5697', 'activ': True},), ({'nume': 'Johnson', 'prenume': 'Paul', 'email': 'nguyenbianca@yahoo.com', 'data_nasterii': '2009-10-07T06:00:00+03:00', 'telefon': '210.290.2501x82386', 'activ': True},), ({'nume': 'Owens', 'prenume': 'Linda', 'email': 'brownpaula@rivas.com', 'data_nasterii': '2009-06-23T06:00:00+03:00', 'telefon': '+1-331-019-5812x618', 'activ': False},), '...(remaining elements truncated)...']>"
      ]
     },
     "execution_count": 33,
     "metadata": {},
     "output_type": "execute_result"
    }
   ],
   "source": [
    "e.values_list('data')"
   ]
  },
  {
   "cell_type": "code",
   "execution_count": 15,
   "metadata": {},
   "outputs": [
    {
     "name": "stdout",
     "output_type": "stream",
     "text": [
      "Utilizatori\n",
      "{'nume': 'Williams', 'prenume': 'Donna', 'email': 'browncarlos@gmail.com', 'data_nasterii': datetime.datetime(1988, 2, 20, 4, 0, tzinfo=<UTC>), 'telefon': '945-840-2001x7224', 'activ': True}\n",
      "Evenimente\n",
      "{'email': 'browncarlos@gmail.com', 'denumire': 'DOR Live', 'data': datetime.datetime(1922, 4, 5, 4, 16, tzinfo=<UTC>), 'pret': 200.0, 'oras': 'Oradea'}\n",
      "Evenimente\n",
      "{'email': 'browncarlos@gmail.com', 'denumire': 'Power of Storytelling', 'data': datetime.datetime(1907, 7, 15, 4, 16, tzinfo=<UTC>), 'pret': 100.0, 'oras': 'Bucuresti'}\n",
      "Evenimente\n",
      "{'email': 'browncarlos@gmail.com', 'denumire': 'DOR Live', 'data': datetime.datetime(1970, 11, 4, 4, 0, tzinfo=<UTC>), 'pret': 150.0, 'oras': 'Oradea'}\n",
      "Evenimente\n",
      "{'email': 'browncarlos@gmail.com', 'denumire': 'DOR online', 'data': datetime.datetime(1949, 4, 13, 4, 0, tzinfo=<UTC>), 'pret': 200.0, 'oras': 'Cluj'}\n",
      "Evenimente\n",
      "{'email': 'browncarlos@gmail.com', 'denumire': 'Power of Storytelling', 'data': datetime.datetime(1939, 12, 7, 4, 0, tzinfo=<UTC>), 'pret': 100.0, 'oras': 'Arad'}\n"
     ]
    }
   ],
   "source": [
    "for i in e :\n",
    "    print(i)\n",
    "    print(i.eav.get_values_dict())"
   ]
  },
  {
   "cell_type": "code",
   "execution_count": 20,
   "metadata": {},
   "outputs": [],
   "source": [
    "v = emodels.Value.objects.get(pk=46940)"
   ]
  },
  {
   "cell_type": "code",
   "execution_count": 22,
   "metadata": {},
   "outputs": [
    {
     "data": {
      "text/plain": [
       "<Attribute: email (Text)>"
      ]
     },
     "execution_count": 22,
     "metadata": {},
     "output_type": "execute_result"
    }
   ],
   "source": [
    "v.attribute"
   ]
  },
  {
   "cell_type": "code",
   "execution_count": 28,
   "metadata": {},
   "outputs": [
    {
     "data": {
      "text/plain": [
       "<QuerySet [nume: \"Williams\" (33114), prenume: \"Donna\" (33114), email: \"browncarlos@gmail.com\" (33114), data_nasterii: \"1988-02-20 04:00:00+00:00\" (33114), telefon: \"945-840-2001x7224\" (33114), activ: \"True\" (33114)]>"
      ]
     },
     "execution_count": 28,
     "metadata": {},
     "output_type": "execute_result"
    }
   ],
   "source": [
    "emodels.Entity.get_values(e[0].eav)"
   ]
  },
  {
   "cell_type": "code",
   "execution_count": 44,
   "metadata": {},
   "outputs": [
    {
     "ename": "FieldError",
     "evalue": "Cannot resolve keyword '_get_value' into field. Choices are: Entry, attribute, attribute_id, created, entity, entity_ct, entity_ct_id, entity_id, generic_value_ct, generic_value_ct_id, generic_value_id, id, modified, value_bool, value_date, value_enum, value_enum_id, value_float, value_int, value_object, value_text",
     "output_type": "error",
     "traceback": [
      "\u001b[0;31m---------------------------------------------------------------------------\u001b[0m",
      "\u001b[0;31mFieldError\u001b[0m                                Traceback (most recent call last)",
      "\u001b[0;32m~/.virtualenvs/paul-api/lib/python3.7/site-packages/django/db/models/sql/query.py\u001b[0m in \u001b[0;36madd_fields\u001b[0;34m(self, field_names, allow_m2m)\u001b[0m\n\u001b[1;32m   1862\u001b[0m                 \u001b[0;31m# if there is no existing joins, use outer join.\u001b[0m\u001b[0;34m\u001b[0m\u001b[0;34m\u001b[0m\u001b[0;34m\u001b[0m\u001b[0m\n\u001b[0;32m-> 1863\u001b[0;31m                 \u001b[0mjoin_info\u001b[0m \u001b[0;34m=\u001b[0m \u001b[0mself\u001b[0m\u001b[0;34m.\u001b[0m\u001b[0msetup_joins\u001b[0m\u001b[0;34m(\u001b[0m\u001b[0mname\u001b[0m\u001b[0;34m.\u001b[0m\u001b[0msplit\u001b[0m\u001b[0;34m(\u001b[0m\u001b[0mLOOKUP_SEP\u001b[0m\u001b[0;34m)\u001b[0m\u001b[0;34m,\u001b[0m \u001b[0mopts\u001b[0m\u001b[0;34m,\u001b[0m \u001b[0malias\u001b[0m\u001b[0;34m,\u001b[0m \u001b[0mallow_many\u001b[0m\u001b[0;34m=\u001b[0m\u001b[0mallow_m2m\u001b[0m\u001b[0;34m)\u001b[0m\u001b[0;34m\u001b[0m\u001b[0;34m\u001b[0m\u001b[0m\n\u001b[0m\u001b[1;32m   1864\u001b[0m                 targets, final_alias, joins = self.trim_joins(\n",
      "\u001b[0;32m~/.virtualenvs/paul-api/lib/python3.7/site-packages/django/db/models/sql/query.py\u001b[0m in \u001b[0;36msetup_joins\u001b[0;34m(self, names, opts, alias, can_reuse, allow_many, reuse_with_filtered_relation)\u001b[0m\n\u001b[1;32m   1565\u001b[0m                 path, final_field, targets, rest = self.names_to_path(\n\u001b[0;32m-> 1566\u001b[0;31m                     \u001b[0mnames\u001b[0m\u001b[0;34m[\u001b[0m\u001b[0;34m:\u001b[0m\u001b[0mpivot\u001b[0m\u001b[0;34m]\u001b[0m\u001b[0;34m,\u001b[0m \u001b[0mopts\u001b[0m\u001b[0;34m,\u001b[0m \u001b[0mallow_many\u001b[0m\u001b[0;34m,\u001b[0m \u001b[0mfail_on_missing\u001b[0m\u001b[0;34m=\u001b[0m\u001b[0;32mTrue\u001b[0m\u001b[0;34m,\u001b[0m\u001b[0;34m\u001b[0m\u001b[0;34m\u001b[0m\u001b[0m\n\u001b[0m\u001b[1;32m   1567\u001b[0m                 )\n",
      "\u001b[0;32m~/.virtualenvs/paul-api/lib/python3.7/site-packages/django/db/models/sql/query.py\u001b[0m in \u001b[0;36mnames_to_path\u001b[0;34m(self, names, opts, allow_many, fail_on_missing)\u001b[0m\n\u001b[1;32m   1481\u001b[0m                     raise FieldError(\"Cannot resolve keyword '%s' into field. \"\n\u001b[0;32m-> 1482\u001b[0;31m                                      \"Choices are: %s\" % (name, \", \".join(available)))\n\u001b[0m\u001b[1;32m   1483\u001b[0m                 \u001b[0;32mbreak\u001b[0m\u001b[0;34m\u001b[0m\u001b[0;34m\u001b[0m\u001b[0m\n",
      "\u001b[0;31mFieldError\u001b[0m: Cannot resolve keyword '_get_value' into field. Choices are: Entry, attribute, attribute_id, created, entity, entity_ct, entity_ct_id, entity_id, generic_value_ct, generic_value_ct_id, generic_value_id, id, modified, value_bool, value_date, value_enum, value_enum_id, value_float, value_int, value_object, value_text",
      "\nDuring handling of the above exception, another exception occurred:\n",
      "\u001b[0;31mFieldError\u001b[0m                                Traceback (most recent call last)",
      "\u001b[0;32m<ipython-input-44-28194bddec82>\u001b[0m in \u001b[0;36m<module>\u001b[0;34m\u001b[0m\n\u001b[0;32m----> 1\u001b[0;31m \u001b[0mx\u001b[0m \u001b[0;34m=\u001b[0m \u001b[0memodels\u001b[0m\u001b[0;34m.\u001b[0m\u001b[0mValue\u001b[0m\u001b[0;34m.\u001b[0m\u001b[0mobjects\u001b[0m\u001b[0;34m.\u001b[0m\u001b[0mfilter\u001b[0m\u001b[0;34m(\u001b[0m\u001b[0mentity_id\u001b[0m\u001b[0;34m=\u001b[0m\u001b[0;36m33114\u001b[0m\u001b[0;34m,\u001b[0m \u001b[0mattribute__slug\u001b[0m\u001b[0;34m=\u001b[0m\u001b[0;34m'nume'\u001b[0m\u001b[0;34m)\u001b[0m\u001b[0;34m.\u001b[0m\u001b[0mvalues\u001b[0m\u001b[0;34m(\u001b[0m\u001b[0;34m'_get_value'\u001b[0m\u001b[0;34m)\u001b[0m\u001b[0;34m\u001b[0m\u001b[0;34m\u001b[0m\u001b[0m\n\u001b[0m",
      "\u001b[0;32m~/.virtualenvs/paul-api/lib/python3.7/site-packages/django/db/models/query.py\u001b[0m in \u001b[0;36mvalues\u001b[0;34m(self, *fields, **expressions)\u001b[0m\n\u001b[1;32m    839\u001b[0m     \u001b[0;32mdef\u001b[0m \u001b[0mvalues\u001b[0m\u001b[0;34m(\u001b[0m\u001b[0mself\u001b[0m\u001b[0;34m,\u001b[0m \u001b[0;34m*\u001b[0m\u001b[0mfields\u001b[0m\u001b[0;34m,\u001b[0m \u001b[0;34m**\u001b[0m\u001b[0mexpressions\u001b[0m\u001b[0;34m)\u001b[0m\u001b[0;34m:\u001b[0m\u001b[0;34m\u001b[0m\u001b[0;34m\u001b[0m\u001b[0m\n\u001b[1;32m    840\u001b[0m         \u001b[0mfields\u001b[0m \u001b[0;34m+=\u001b[0m \u001b[0mtuple\u001b[0m\u001b[0;34m(\u001b[0m\u001b[0mexpressions\u001b[0m\u001b[0;34m)\u001b[0m\u001b[0;34m\u001b[0m\u001b[0;34m\u001b[0m\u001b[0m\n\u001b[0;32m--> 841\u001b[0;31m         \u001b[0mclone\u001b[0m \u001b[0;34m=\u001b[0m \u001b[0mself\u001b[0m\u001b[0;34m.\u001b[0m\u001b[0m_values\u001b[0m\u001b[0;34m(\u001b[0m\u001b[0;34m*\u001b[0m\u001b[0mfields\u001b[0m\u001b[0;34m,\u001b[0m \u001b[0;34m**\u001b[0m\u001b[0mexpressions\u001b[0m\u001b[0;34m)\u001b[0m\u001b[0;34m\u001b[0m\u001b[0;34m\u001b[0m\u001b[0m\n\u001b[0m\u001b[1;32m    842\u001b[0m         \u001b[0mclone\u001b[0m\u001b[0;34m.\u001b[0m\u001b[0m_iterable_class\u001b[0m \u001b[0;34m=\u001b[0m \u001b[0mValuesIterable\u001b[0m\u001b[0;34m\u001b[0m\u001b[0;34m\u001b[0m\u001b[0m\n\u001b[1;32m    843\u001b[0m         \u001b[0;32mreturn\u001b[0m \u001b[0mclone\u001b[0m\u001b[0;34m\u001b[0m\u001b[0;34m\u001b[0m\u001b[0m\n",
      "\u001b[0;32m~/.virtualenvs/paul-api/lib/python3.7/site-packages/django/db/models/query.py\u001b[0m in \u001b[0;36m_values\u001b[0;34m(self, *fields, **expressions)\u001b[0m\n\u001b[1;32m    834\u001b[0m             \u001b[0mclone\u001b[0m \u001b[0;34m=\u001b[0m \u001b[0mclone\u001b[0m\u001b[0;34m.\u001b[0m\u001b[0mannotate\u001b[0m\u001b[0;34m(\u001b[0m\u001b[0;34m**\u001b[0m\u001b[0mexpressions\u001b[0m\u001b[0;34m)\u001b[0m\u001b[0;34m\u001b[0m\u001b[0;34m\u001b[0m\u001b[0m\n\u001b[1;32m    835\u001b[0m         \u001b[0mclone\u001b[0m\u001b[0;34m.\u001b[0m\u001b[0m_fields\u001b[0m \u001b[0;34m=\u001b[0m \u001b[0mfields\u001b[0m\u001b[0;34m\u001b[0m\u001b[0;34m\u001b[0m\u001b[0m\n\u001b[0;32m--> 836\u001b[0;31m         \u001b[0mclone\u001b[0m\u001b[0;34m.\u001b[0m\u001b[0mquery\u001b[0m\u001b[0;34m.\u001b[0m\u001b[0mset_values\u001b[0m\u001b[0;34m(\u001b[0m\u001b[0mfields\u001b[0m\u001b[0;34m)\u001b[0m\u001b[0;34m\u001b[0m\u001b[0;34m\u001b[0m\u001b[0m\n\u001b[0m\u001b[1;32m    837\u001b[0m         \u001b[0;32mreturn\u001b[0m \u001b[0mclone\u001b[0m\u001b[0;34m\u001b[0m\u001b[0;34m\u001b[0m\u001b[0m\n\u001b[1;32m    838\u001b[0m \u001b[0;34m\u001b[0m\u001b[0m\n",
      "\u001b[0;32m~/.virtualenvs/paul-api/lib/python3.7/site-packages/django/db/models/sql/query.py\u001b[0m in \u001b[0;36mset_values\u001b[0;34m(self, fields)\u001b[0m\n\u001b[1;32m   2170\u001b[0m \u001b[0;34m\u001b[0m\u001b[0m\n\u001b[1;32m   2171\u001b[0m         \u001b[0mself\u001b[0m\u001b[0;34m.\u001b[0m\u001b[0mvalues_select\u001b[0m \u001b[0;34m=\u001b[0m \u001b[0mtuple\u001b[0m\u001b[0;34m(\u001b[0m\u001b[0mfield_names\u001b[0m\u001b[0;34m)\u001b[0m\u001b[0;34m\u001b[0m\u001b[0;34m\u001b[0m\u001b[0m\n\u001b[0;32m-> 2172\u001b[0;31m         \u001b[0mself\u001b[0m\u001b[0;34m.\u001b[0m\u001b[0madd_fields\u001b[0m\u001b[0;34m(\u001b[0m\u001b[0mfield_names\u001b[0m\u001b[0;34m,\u001b[0m \u001b[0;32mTrue\u001b[0m\u001b[0;34m)\u001b[0m\u001b[0;34m\u001b[0m\u001b[0;34m\u001b[0m\u001b[0m\n\u001b[0m\u001b[1;32m   2173\u001b[0m \u001b[0;34m\u001b[0m\u001b[0m\n\u001b[1;32m   2174\u001b[0m     \u001b[0;34m@\u001b[0m\u001b[0mproperty\u001b[0m\u001b[0;34m\u001b[0m\u001b[0;34m\u001b[0m\u001b[0m\n",
      "\u001b[0;32m~/.virtualenvs/paul-api/lib/python3.7/site-packages/django/db/models/sql/query.py\u001b[0m in \u001b[0;36madd_fields\u001b[0;34m(self, field_names, allow_m2m)\u001b[0m\n\u001b[1;32m   1884\u001b[0m                 ])\n\u001b[1;32m   1885\u001b[0m                 raise FieldError(\"Cannot resolve keyword %r into field. \"\n\u001b[0;32m-> 1886\u001b[0;31m                                  \"Choices are: %s\" % (name, \", \".join(names)))\n\u001b[0m\u001b[1;32m   1887\u001b[0m \u001b[0;34m\u001b[0m\u001b[0m\n\u001b[1;32m   1888\u001b[0m     \u001b[0;32mdef\u001b[0m \u001b[0madd_ordering\u001b[0m\u001b[0;34m(\u001b[0m\u001b[0mself\u001b[0m\u001b[0;34m,\u001b[0m \u001b[0;34m*\u001b[0m\u001b[0mordering\u001b[0m\u001b[0;34m)\u001b[0m\u001b[0;34m:\u001b[0m\u001b[0;34m\u001b[0m\u001b[0;34m\u001b[0m\u001b[0m\n",
      "\u001b[0;31mFieldError\u001b[0m: Cannot resolve keyword '_get_value' into field. Choices are: Entry, attribute, attribute_id, created, entity, entity_ct, entity_ct_id, entity_id, generic_value_ct, generic_value_ct_id, generic_value_id, id, modified, value_bool, value_date, value_enum, value_enum_id, value_float, value_int, value_object, value_text"
     ]
    }
   ],
   "source": [
    "x = emodels.Value.objects.filter(entity_id=33114, attribute__slug='nume').values('_get_value')"
   ]
  },
  {
   "cell_type": "code",
   "execution_count": 45,
   "metadata": {},
   "outputs": [],
   "source": [
    "first = e[0]\n"
   ]
  },
  {
   "cell_type": "code",
   "execution_count": 46,
   "metadata": {},
   "outputs": [
    {
     "ename": "AttributeError",
     "evalue": "'Entry' object has no attribute 'value_entities'",
     "output_type": "error",
     "traceback": [
      "\u001b[0;31m---------------------------------------------------------------------------\u001b[0m",
      "\u001b[0;31mAttributeError\u001b[0m                            Traceback (most recent call last)",
      "\u001b[0;32m<ipython-input-46-2b71ee411d38>\u001b[0m in \u001b[0;36m<module>\u001b[0;34m\u001b[0m\n\u001b[0;32m----> 1\u001b[0;31m \u001b[0mfirst\u001b[0m\u001b[0;34m.\u001b[0m\u001b[0mvalue_entities\u001b[0m\u001b[0;34m\u001b[0m\u001b[0;34m\u001b[0m\u001b[0m\n\u001b[0m",
      "\u001b[0;31mAttributeError\u001b[0m: 'Entry' object has no attribute 'value_entities'"
     ]
    }
   ],
   "source": [
    "first.value_entities"
   ]
  },
  {
   "cell_type": "code",
   "execution_count": 2,
   "metadata": {},
   "outputs": [],
   "source": [
    "a = models.Entry.objects.create(table=models.Table.objects.last())"
   ]
  },
  {
   "cell_type": "code",
   "execution_count": 6,
   "metadata": {},
   "outputs": [],
   "source": [
    "a.data = {'date': datetime.now()}"
   ]
  },
  {
   "cell_type": "code",
   "execution_count": 7,
   "metadata": {},
   "outputs": [],
   "source": [
    "a.save()"
   ]
  },
  {
   "cell_type": "code",
   "execution_count": 8,
   "metadata": {},
   "outputs": [
    {
     "data": {
      "text/plain": [
       "{'date': datetime.datetime(2020, 8, 19, 16, 17, 30, 412133)}"
      ]
     },
     "execution_count": 8,
     "metadata": {},
     "output_type": "execute_result"
    }
   ],
   "source": [
    "a.data"
   ]
  },
  {
   "cell_type": "code",
   "execution_count": 27,
   "metadata": {},
   "outputs": [
    {
     "data": {
      "text/plain": [
       "499417"
      ]
     },
     "execution_count": 27,
     "metadata": {},
     "output_type": "execute_result"
    }
   ],
   "source": [
    "models.Entry.objects.filter(data__data__lte=datetime.now()).count()"
   ]
  },
  {
   "cell_type": "code",
   "execution_count": 26,
   "metadata": {},
   "outputs": [
    {
     "data": {
      "text/plain": [
       "599417"
      ]
     },
     "execution_count": 26,
     "metadata": {},
     "output_type": "execute_result"
    }
   ],
   "source": [
    "models.Entry.objects.count()"
   ]
  },
  {
   "cell_type": "code",
   "execution_count": null,
   "metadata": {},
   "outputs": [],
   "source": []
  }
 ],
 "metadata": {
  "kernelspec": {
   "display_name": "Django Shell-Plus",
   "language": "python",
   "name": "django_extensions"
  },
  "language_info": {
   "codemirror_mode": {
    "name": "ipython",
    "version": 3
   },
   "file_extension": ".py",
   "mimetype": "text/x-python",
   "name": "python",
   "nbconvert_exporter": "python",
   "pygments_lexer": "ipython3",
   "version": "3.7.7"
  }
 },
 "nbformat": 4,
 "nbformat_minor": 4
}
